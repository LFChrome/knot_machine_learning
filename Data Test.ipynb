{
 "cells": [
  {
   "cell_type": "code",
   "execution_count": 2,
   "id": "60aff657",
   "metadata": {
    "ExecuteTime": {
     "end_time": "2022-08-02T01:19:37.625865Z",
     "start_time": "2022-08-02T01:19:35.805941Z"
    }
   },
   "outputs": [],
   "source": [
    "import pandas as pd\n",
    "import numpy as np\n",
    "import import_ipynb\n",
    "import random"
   ]
  },
  {
   "cell_type": "code",
   "execution_count": 3,
   "id": "443ed335",
   "metadata": {
    "ExecuteTime": {
     "end_time": "2022-08-02T01:19:40.086317Z",
     "start_time": "2022-08-02T01:19:37.627983Z"
    }
   },
   "outputs": [],
   "source": [
    "data_file = 'dataset/knotinfo_data_complete.xls'\n",
    "knot_info = pd.read_excel(data_file, skiprows=[1])"
   ]
  },
  {
   "cell_type": "code",
   "execution_count": 4,
   "id": "c724e6c5",
   "metadata": {
    "ExecuteTime": {
     "end_time": "2022-08-02T01:19:40.092227Z",
     "start_time": "2022-08-02T01:19:40.088227Z"
    }
   },
   "outputs": [],
   "source": [
    "features = [\n",
    "    'crossing_number', \n",
    "    'three_genus',\n",
    "    'bridge_index',\n",
    "    'braid_index', \n",
    "    'signature', \n",
    "    'smooth_four_genus',\n",
    "    'topological_four_genus',\n",
    "    'turaev_genus',\n",
    "    'determinant',\n",
    "    'alternating'\n",
    "]"
   ]
  },
  {
   "cell_type": "code",
   "execution_count": 5,
   "id": "fd46af23",
   "metadata": {
    "ExecuteTime": {
     "end_time": "2022-08-02T01:19:40.873180Z",
     "start_time": "2022-08-02T01:19:40.862190Z"
    }
   },
   "outputs": [],
   "source": [
    "df = knot_info[features]"
   ]
  },
  {
   "cell_type": "code",
   "execution_count": 6,
   "id": "6baa30a4",
   "metadata": {
    "ExecuteTime": {
     "end_time": "2022-08-02T01:19:43.201093Z",
     "start_time": "2022-08-02T01:19:43.178086Z"
    }
   },
   "outputs": [],
   "source": [
    "def convert_entry_to_int(entry):\n",
    "    try:\n",
    "        return int(entry)\n",
    "    except:\n",
    "        if entry == 'Y':\n",
    "            return 1\n",
    "        elif entry == 'N':\n",
    "            return 0\n",
    "        else:\n",
    "            #print(entry)\n",
    "            return None\n",
    "    \n",
    "df = df.applymap(convert_entry_to_int)"
   ]
  },
  {
   "cell_type": "code",
   "execution_count": 7,
   "id": "98064e8e",
   "metadata": {
    "ExecuteTime": {
     "end_time": "2022-08-02T01:19:44.769151Z",
     "start_time": "2022-08-02T01:19:44.764609Z"
    }
   },
   "outputs": [],
   "source": [
    "df = df.dropna().to_numpy()"
   ]
  },
  {
   "cell_type": "code",
   "execution_count": 8,
   "id": "09a1e57a",
   "metadata": {
    "ExecuteTime": {
     "end_time": "2022-08-02T01:19:45.757551Z",
     "start_time": "2022-08-02T01:19:45.587306Z"
    }
   },
   "outputs": [],
   "source": [
    "X = np.delete(df, -1, 1)\n",
    "Y = df[:,-1]"
   ]
  },
  {
   "cell_type": "code",
   "execution_count": 9,
   "id": "32a95c26",
   "metadata": {
    "ExecuteTime": {
     "end_time": "2022-08-02T01:19:46.508396Z",
     "start_time": "2022-08-02T01:19:46.498369Z"
    }
   },
   "outputs": [
    {
     "data": {
      "text/plain": [
       "array([[  0.,   0.,   1., ...,   0.,   0.,   0.],\n",
       "       [  3.,   1.,   2., ...,   1.,   0.,   3.],\n",
       "       [  4.,   1.,   2., ...,   1.,   0.,   5.],\n",
       "       ...,\n",
       "       [ 12.,   3.,   3., ...,   1.,   1., 159.],\n",
       "       [ 12.,   4.,   3., ...,   2.,   1., 125.],\n",
       "       [ 12.,   5.,   3., ...,   4.,   1.,  45.]])"
      ]
     },
     "execution_count": 9,
     "metadata": {},
     "output_type": "execute_result"
    }
   ],
   "source": [
    "X"
   ]
  },
  {
   "cell_type": "code",
   "execution_count": 10,
   "id": "07d41a1c",
   "metadata": {
    "ExecuteTime": {
     "end_time": "2022-08-02T01:19:47.862086Z",
     "start_time": "2022-08-02T01:19:47.264758Z"
    }
   },
   "outputs": [
    {
     "data": {
      "text/plain": [
       "array([1., 1., 1., ..., 0., 0., 0.])"
      ]
     },
     "execution_count": 10,
     "metadata": {},
     "output_type": "execute_result"
    }
   ],
   "source": [
    "Y"
   ]
  },
  {
   "cell_type": "code",
   "execution_count": 158,
   "id": "5d02d526",
   "metadata": {
    "ExecuteTime": {
     "end_time": "2022-08-01T22:29:16.779161Z",
     "start_time": "2022-08-01T22:29:16.775020Z"
    }
   },
   "outputs": [],
   "source": [
    "from logistic_regression.logReg_WeiWuLu import runLogisticRegression as runLogReg"
   ]
  },
  {
   "cell_type": "code",
   "execution_count": 163,
   "id": "05670e94",
   "metadata": {
    "ExecuteTime": {
     "end_time": "2022-08-01T22:36:34.415974Z",
     "start_time": "2022-08-01T22:34:25.133069Z"
    }
   },
   "outputs": [
    {
     "data": {
      "image/png": "[encoded data removed]",
      "text/plain": [
       "<Figure size 432x288 with 1 Axes>"
      ]
     },
     "metadata": {
      "needs_background": "light"
     },
     "output_type": "display_data"
    },
    {
     "data": {
      "text/plain": [
       "array([ -0.78671016,   1.57468905,  -0.14228911,   2.0730662 ,\n",
       "         0.04296734,   0.26406799,   0.43776472, -14.85311444,\n",
       "         0.01502636])"
      ]
     },
     "execution_count": 163,
     "metadata": {},
     "output_type": "execute_result"
    }
   ],
   "source": [
    "theta = np.array([\n",
    "    random.random(),\n",
    "    random.random(),\n",
    "    random.random(),\n",
    "    random.random(),\n",
    "    random.random(),\n",
    "    random.random(),\n",
    "    random.random(),\n",
    "    random.random(),\n",
    "    random.random()\n",
    "])\n",
    "runLogReg(X, Y, theta, 1000000, 0.01)"
   ]
  },
  {
   "cell_type": "code",
   "execution_count": 164,
   "id": "d343e92a",
   "metadata": {
    "ExecuteTime": {
     "end_time": "2022-08-01T22:38:55.725789Z",
     "start_time": "2022-08-01T22:36:48.451272Z"
    }
   },
   "outputs": [
    {
     "data": {
      "image/png": "[encoded data removed]",
      "text/plain": [
       "<Figure size 432x288 with 1 Axes>"
      ]
     },
     "metadata": {
      "needs_background": "light"
     },
     "output_type": "display_data"
    },
    {
     "data": {
      "text/plain": [
       "array([-7.25679092e-01,  1.45395592e+00, -4.16140520e-02,  1.95380349e+00,\n",
       "        4.20689428e-02, -1.60098358e-01,  8.54784933e-01, -1.48263841e+01,\n",
       "        1.47661607e-02])"
      ]
     },
     "execution_count": 164,
     "metadata": {},
     "output_type": "execute_result"
    }
   ],
   "source": [
    "theta = np.array([\n",
    "    random.random(),\n",
    "    random.random(),\n",
    "    random.random(),\n",
    "    random.random(),\n",
    "    random.random(),\n",
    "    random.random(),\n",
    "    random.random(),\n",
    "    random.random(),\n",
    "    random.random()\n",
    "])\n",
    "runLogReg(X, Y, theta, 1000000, 0.01)"
   ]
  },
  {
   "cell_type": "code",
   "execution_count": 165,
   "id": "409ef592",
   "metadata": {
    "ExecuteTime": {
     "end_time": "2022-08-01T22:41:33.533622Z",
     "start_time": "2022-08-01T22:39:15.100019Z"
    }
   },
   "outputs": [
    {
     "data": {
      "image/png": "[encoded data removed]",
      "text/plain": [
       "<Figure size 432x288 with 1 Axes>"
      ]
     },
     "metadata": {
      "needs_background": "light"
     },
     "output_type": "display_data"
    },
    {
     "data": {
      "text/plain": [
       "array([-7.56262953e-01,  1.51243459e+00, -8.44509429e-02,  2.01035232e+00,\n",
       "        4.24374224e-02, -1.08221821e-02,  7.10261315e-01, -1.48355602e+01,\n",
       "        1.48677721e-02])"
      ]
     },
     "execution_count": 165,
     "metadata": {},
     "output_type": "execute_result"
    }
   ],
   "source": [
    "theta = np.array([\n",
    "    random.random(),\n",
    "    random.random(),\n",
    "    random.random(),\n",
    "    random.random(),\n",
    "    random.random(),\n",
    "    random.random(),\n",
    "    random.random(),\n",
    "    random.random(),\n",
    "    random.random()\n",
    "])\n",
    "runLogReg(X, Y, theta, 1000000, 0.01)"
   ]
  },
  {
   "cell_type": "code",
   "execution_count": 14,
   "id": "5cb4a27a",
   "metadata": {
    "ExecuteTime": {
     "end_time": "2022-08-02T01:20:44.107257Z",
     "start_time": "2022-08-02T01:20:44.040352Z"
    }
   },
   "outputs": [
    {
     "data": {
      "text/plain": [
       "array([[-1.26139837,  0.35266286, -1.46862959,  0.43912365,  0.05262776,\n",
       "         0.19943977,  0.30706631, -8.29299662,  0.03170084]])"
      ]
     },
     "execution_count": 14,
     "metadata": {},
     "output_type": "execute_result"
    }
   ],
   "source": [
    "from sklearn.linear_model import LogisticRegression\n",
    "clf = LogisticRegression(random_state = 10, max_iter=500).fit(X, Y)\n",
    "\n",
    "clf.coef_"
   ]
  },
  {
   "cell_type": "code",
   "execution_count": 206,
   "id": "895e5252",
   "metadata": {
    "ExecuteTime": {
     "end_time": "2022-08-01T22:57:25.408063Z",
     "start_time": "2022-08-01T22:57:24.337289Z"
    }
   },
   "outputs": [
    {
     "name": "stdout",
     "output_type": "stream",
     "text": [
      "[1. 1. 1. 1. 1. 1. 1. 1. 1. 1.]\n"
     ]
    },
    {
     "data": {
      "text/plain": [
       "1.0"
      ]
     },
     "execution_count": 206,
     "metadata": {},
     "output_type": "execute_result"
    }
   ],
   "source": [
    "from sklearn.model_selection import cross_val_score\n",
    "print(cross_val_score(clf, X, Y, cv=10))\n",
    "cross_val_score(clf, X, Y, cv=10).mean()"
   ]
  },
  {
   "cell_type": "code",
   "execution_count": null,
   "id": "f0692da8",
   "metadata": {},
   "outputs": [],
   "source": []
  }
 ],
 "metadata": {
  "kernelspec": {
   "display_name": "Python 3 (ipykernel)",
   "language": "python",
   "name": "python3"
  },
  "language_info": {
   "codemirror_mode": {
    "name": "ipython",
    "version": 3
   },
   "file_extension": ".py",
   "mimetype": "text/x-python",
   "name": "python",
   "nbconvert_exporter": "python",
   "pygments_lexer": "ipython3",
   "version": "3.8.2"
  }
 },
 "nbformat": 4,
 "nbformat_minor": 5
}
