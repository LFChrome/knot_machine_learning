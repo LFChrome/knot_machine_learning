{
 "cells": [
  {
   "cell_type": "code",
   "execution_count": 33,
   "id": "60aff657",
   "metadata": {
    "ExecuteTime": {
     "end_time": "2022-08-05T00:32:19.394354Z",
     "start_time": "2022-08-05T00:32:19.388725Z"
    }
   },
   "outputs": [],
   "source": [
    "import pandas as pd\n",
    "import numpy as np\n",
    "import import_ipynb\n",
    "import random\n",
    "from sklearn.linear_model import LogisticRegression\n",
    "from sklearn.model_selection import cross_val_score\n"
   ]
  },
  {
   "cell_type": "code",
   "execution_count": 36,
   "id": "443ed335",
   "metadata": {
    "ExecuteTime": {
     "end_time": "2022-08-05T00:34:07.911964Z",
     "start_time": "2022-08-05T00:34:07.138626Z"
    }
   },
   "outputs": [],
   "source": [
    "data_file = 'dataset/knotinfo_data_complete.xls'\n",
    "knot_info = pd.read_excel(data_file, skiprows=[1])"
   ]
  },
  {
   "cell_type": "code",
   "execution_count": 37,
   "id": "24653a72",
   "metadata": {
    "ExecuteTime": {
     "end_time": "2022-08-05T00:34:09.187382Z",
     "start_time": "2022-08-05T00:34:09.184589Z"
    }
   },
   "outputs": [],
   "source": [
    "def convert_entry_to_int(entry):\n",
    "    try:\n",
    "        return int(entry)\n",
    "    except:\n",
    "        if entry == 'Y':\n",
    "            return 1\n",
    "        elif entry == 'N':\n",
    "            return 0\n",
    "        return None"
   ]
  },
  {
   "cell_type": "code",
   "execution_count": 35,
   "id": "c724e6c5",
   "metadata": {
    "ExecuteTime": {
     "end_time": "2022-08-05T00:32:20.676918Z",
     "start_time": "2022-08-05T00:32:20.673524Z"
    }
   },
   "outputs": [],
   "source": [
    "features = [\n",
    "    'crossing_number', \n",
    "    'three_genus',\n",
    "    'bridge_index',\n",
    "    'braid_index', \n",
    "    'signature', \n",
    "    'smooth_four_genus',\n",
    "    'topological_four_genus',\n",
    "#     'turaev_genus', \n",
    "    'determinant',\n",
    "    'alternating'\n",
    "]\n",
    "\n",
    "# the moment I throw-in the 'turaev-genus' the score for the tests goes to 1"
   ]
  },
  {
   "cell_type": "code",
   "execution_count": 45,
   "id": "f6c0872c",
   "metadata": {
    "ExecuteTime": {
     "end_time": "2022-08-05T01:48:43.298508Z",
     "start_time": "2022-08-05T01:48:43.292136Z"
    }
   },
   "outputs": [],
   "source": [
    "def predict_alternating(features, r_state):\n",
    "    dataframe = knot_info[features].applymap(convert_entry_to_int).dropna()\n",
    "    X = dataframe.drop('alternating', axis=1)\n",
    "    Y = dataframe['alternating']\n",
    "    # max_iter needs to be atleast 500 for convergence \n",
    "    return LogisticRegression(random_state = r_state, max_iter = 500).fit(X, Y)"
   ]
  },
  {
   "cell_type": "code",
   "execution_count": 54,
   "id": "5cb4a27a",
   "metadata": {
    "ExecuteTime": {
     "end_time": "2022-08-05T02:10:27.607570Z",
     "start_time": "2022-08-05T02:10:27.507073Z"
    }
   },
   "outputs": [
    {
     "name": "stdout",
     "output_type": "stream",
     "text": [
      "[[-3.08368041  1.47153871 -4.50494608  1.51621302  0.14794177  0.40066507\n",
      "   0.80577468  0.06376554]]\n"
     ]
    }
   ],
   "source": [
    "df = knot_info[features].applymap(convert_entry_to_int).dropna()\n",
    "X = df.drop('alternating', axis = 1)\n",
    "Y = df['alternating']\n",
    "\n",
    "theta = predict_alternating(features, 3000)\n",
    "\n",
    "print(theta.coef_)\n"
   ]
  },
  {
   "cell_type": "code",
   "execution_count": 42,
   "id": "895e5252",
   "metadata": {
    "ExecuteTime": {
     "end_time": "2022-08-05T01:41:48.826191Z",
     "start_time": "2022-08-05T01:41:21.729378Z"
    }
   },
   "outputs": [
    {
     "name": "stdout",
     "output_type": "stream",
     "text": [
      "[0.83333333 0.83333333 0.83333333 0.83333333 0.66666667 0.83333333\n",
      " 1.         1.         1.         1.         1.         1.\n",
      " 0.83333333 1.         1.         1.         0.83333333 1.\n",
      " 1.         0.83333333 1.         1.         0.83333333 1.\n",
      " 1.         1.         1.         1.         1.         1.\n",
      " 0.83333333 1.         1.         0.83333333 0.83333333 1.\n",
      " 1.         1.         1.         1.         1.         1.\n",
      " 1.         0.83333333 1.         1.         1.         0.83333333\n",
      " 1.         1.         1.         1.         1.         1.\n",
      " 0.83333333 1.         1.         1.         1.         1.\n",
      " 0.66666667 1.         1.         0.66666667 1.         1.\n",
      " 1.         1.         1.         1.         1.         1.\n",
      " 1.         0.83333333 0.83333333 1.         1.         1.\n",
      " 1.         1.         0.83333333 1.         1.         0.83333333\n",
      " 1.         1.         1.         1.         1.         1.\n",
      " 0.83333333 1.         1.         1.         1.         1.\n",
      " 1.         1.         1.         0.66666667 1.         1.\n",
      " 0.83333333 1.         1.         1.         0.83333333 1.\n",
      " 0.83333333 1.         0.83333333 1.         1.         0.5\n",
      " 0.66666667 1.         1.         0.83333333 0.83333333 1.\n",
      " 1.         1.         1.         1.         1.         1.\n",
      " 1.         0.83333333 1.         0.83333333 1.         1.\n",
      " 0.83333333 0.83333333 1.         0.83333333 1.         1.\n",
      " 1.         0.66666667 0.83333333 1.         1.         1.\n",
      " 0.83333333 1.         1.         1.         1.         1.\n",
      " 1.         1.         1.         1.         0.83333333 1.\n",
      " 1.         1.         1.         1.         1.         1.\n",
      " 1.         1.         1.         1.         1.         0.83333333\n",
      " 0.66666667 0.83333333 1.         1.         1.         1.\n",
      " 1.         1.         1.         0.83333333 1.         0.66666667\n",
      " 0.83333333 0.5        0.16666667 0.83333333 1.         1.\n",
      " 1.         1.         1.         0.83333333 1.         1.\n",
      " 1.         1.         1.         1.         1.         1.\n",
      " 1.         1.         1.         1.         1.         1.\n",
      " 1.         0.66666667 1.         1.         0.83333333 1.\n",
      " 1.         1.         1.         1.         1.         1.\n",
      " 1.         1.         1.         0.83333333 1.         0.83333333\n",
      " 1.         0.83333333 1.         0.83333333 0.83333333 1.\n",
      " 1.         0.83333333 1.         1.         0.66666667 1.\n",
      " 1.         1.         1.         1.         1.         1.\n",
      " 1.         1.         1.         1.         1.         1.\n",
      " 0.66666667 1.         1.         1.         0.83333333 1.\n",
      " 1.         0.83333333 1.         1.         1.         1.\n",
      " 1.         1.         1.         1.         0.83333333 1.\n",
      " 1.         1.         1.         1.         1.         1.\n",
      " 1.         1.         1.         1.         1.         1.\n",
      " 1.         0.83333333 1.         0.83333333 1.         1.\n",
      " 1.         1.         0.83333333 1.         1.         1.\n",
      " 0.83333333 0.83333333 1.         1.         1.         1.\n",
      " 1.         0.83333333 1.         1.         1.         0.83333333\n",
      " 0.83333333 0.83333333 0.83333333 1.         1.         1.\n",
      " 1.         0.66666667 1.         1.         0.66666667 1.\n",
      " 1.         0.66666667 1.         1.         1.         1.\n",
      " 1.         1.         1.         1.         1.         1.\n",
      " 0.83333333 1.         1.         1.         0.5        1.\n",
      " 1.         1.         0.66666667 1.         1.         1.\n",
      " 1.         0.83333333 1.         0.83333333 0.66666667 0.5\n",
      " 0.83333333 1.         0.83333333 0.83333333 0.66666667 0.66666667\n",
      " 0.83333333 0.83333333 0.66666667 0.83333333 0.66666667 1.\n",
      " 0.83333333 1.         1.         1.         1.         1.\n",
      " 0.83333333 1.         1.         0.5        0.66666667 0.83333333\n",
      " 1.         1.         1.         1.         0.83333333 1.\n",
      " 0.83333333 0.83333333 0.66666667 1.         1.         1.\n",
      " 1.         1.         1.         1.         1.         0.83333333\n",
      " 1.         1.         1.         1.         1.         1.\n",
      " 1.         1.         1.         1.         1.         1.\n",
      " 1.         1.         0.83333333 1.         0.66666667 0.83333333\n",
      " 1.         0.83333333 1.         0.83333333 0.66666667 0.83333333\n",
      " 0.83333333 0.83333333 1.         0.83333333 1.         0.66666667\n",
      " 1.         0.66666667 1.         1.         1.         1.\n",
      " 1.         1.         1.         1.         1.         0.83333333\n",
      " 1.         1.         1.         1.         1.         1.\n",
      " 1.         1.         1.         0.83333333 1.         0.83333333\n",
      " 0.83333333 0.83333333 1.         1.         0.66666667 1.\n",
      " 0.83333333 1.         0.83333333 0.83333333 0.83333333 0.83333333\n",
      " 0.83333333 1.         0.5        0.83333333 1.         0.66666667\n",
      " 0.83333333 0.66666667 0.83333333 0.83333333 0.66666667 1.\n",
      " 1.         0.83333333 1.         1.         1.         1.\n",
      " 1.         1.         1.         1.         0.6        1.\n",
      " 0.8        0.4        0.6        0.8        1.         1.\n",
      " 0.8        0.6        0.8        0.8        0.4        0.4\n",
      " 1.         0.6        0.8        0.8        0.8        0.8\n",
      " 1.         1.         0.6        0.8        0.8        1.\n",
      " 0.2        0.4       ]\n",
      "0.9242\n"
     ]
    }
   ],
   "source": [
    "scores = cross_val_score(theta, X, Y, cv=500)\n",
    "print(scores)\n",
    "print(scores.mean())"
   ]
  },
  {
   "cell_type": "code",
   "execution_count": 41,
   "id": "f0692da8",
   "metadata": {
    "ExecuteTime": {
     "end_time": "2022-08-05T01:37:05.003825Z",
     "start_time": "2022-08-05T01:37:04.998512Z"
    }
   },
   "outputs": [],
   "source": [
    "#percentage of alternating knots in usable dataset: 62.20127903062942%"
   ]
  },
  {
   "cell_type": "code",
   "execution_count": null,
   "id": "a423473b",
   "metadata": {},
   "outputs": [],
   "source": [
    "# random state = 100 : [[-3.08368041  1.47153871 -4.50494608  1.51621302  0.14794177  0.40066507 0.80577468  0.06376554]]\n",
    "# random state = 200 : [[-3.08368041  1.47153871 -4.50494608  1.51621302  0.14794177  0.40066507 0.80577468  0.06376554]]\n",
    "# random state = 300 : [[-3.08368041  1.47153871 -4.50494608  1.51621302  0.14794177  0.40066507 0.80577468  0.06376554]]\n",
    "# random state = 400 : [[-3.08368041  1.47153871 -4.50494608  1.51621302  0.14794177  0.40066507 0.80577468  0.06376554]]\n",
    "# random state = 900 : [[-3.08368041  1.47153871 -4.50494608  1.51621302  0.14794177  0.40066507 0.80577468  0.06376554]]\n",
    "\n",
    "# "
   ]
  }
 ],
 "metadata": {
  "kernelspec": {
   "display_name": "Python 3 (ipykernel)",
   "language": "python",
   "name": "python3"
  },
  "language_info": {
   "codemirror_mode": {
    "name": "ipython",
    "version": 3
   },
   "file_extension": ".py",
   "mimetype": "text/x-python",
   "name": "python",
   "nbconvert_exporter": "python",
   "pygments_lexer": "ipython3",
   "version": "3.8.2"
  }
 },
 "nbformat": 4,
 "nbformat_minor": 5
}
