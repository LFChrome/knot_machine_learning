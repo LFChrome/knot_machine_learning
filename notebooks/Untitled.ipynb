{
 "cells": [
  {
   "cell_type": "code",
   "execution_count": 1,
   "id": "221233c1",
   "metadata": {},
   "outputs": [],
   "source": [
    "import numpy as np"
   ]
  },
  {
   "cell_type": "code",
   "execution_count": 2,
   "id": "aceff750",
   "metadata": {},
   "outputs": [],
   "source": [
    "#Linear regression\n",
    "\n",
    "def calculateCost(X,Y, theta):\n",
    "    return (1/2)*LA.norm(Y-X@theta)**2/len(X)\n",
    "\n",
    "def getNewTheta(X,Y, theta, alpha = 1):\n",
    "    c = X@theta-Y\n",
    "    return theta-alpha*X.T@c/len(X)"
   ]
  },
  {
   "cell_type": "code",
   "execution_count": null,
   "id": "fe5929f7",
   "metadata": {},
   "outputs": [],
   "source": []
  }
 ],
 "metadata": {
  "kernelspec": {
   "display_name": "Python 3 (ipykernel)",
   "language": "python",
   "name": "python3"
  },
  "language_info": {
   "codemirror_mode": {
    "name": "ipython",
    "version": 3
   },
   "file_extension": ".py",
   "mimetype": "text/x-python",
   "name": "python",
   "nbconvert_exporter": "python",
   "pygments_lexer": "ipython3",
   "version": "3.8.2"
  }
 },
 "nbformat": 4,
 "nbformat_minor": 5
}
