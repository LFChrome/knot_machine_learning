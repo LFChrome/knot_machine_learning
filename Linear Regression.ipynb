{
 "cells": [
  {
   "cell_type": "code",
   "execution_count": 2,
   "id": "9d303943",
   "metadata": {},
   "outputs": [],
   "source": [
    "import numpy as np"
   ]
  },
  {
   "cell_type": "code",
   "execution_count": 23,
   "id": "5679eeb6",
   "metadata": {},
   "outputs": [],
   "source": [
    "def linear_regression(x,theta):\n",
    "    f = np.zeros(len(x))\n",
    "    for i in range(len(x)):\n",
    "        f[i] = np.dot(x[i],theta)\n",
    "    return f"
   ]
  },
  {
   "cell_type": "code",
   "execution_count": 35,
   "id": "87e9513c",
   "metadata": {},
   "outputs": [],
   "source": [
    "from numpy import linalg as LA\n",
    "def cost_function(x,y,theta):\n",
    "    J = LA.norm(x@theta-y,2)**2\n",
    "    return 1/(2*len(x))*J"
   ]
  },
  {
   "cell_type": "code",
   "execution_count": 2,
   "id": "5031c885",
   "metadata": {},
   "outputs": [],
   "source": [
    "def gradient_descent(x,y,theta,alpha):\n",
    "    grad = np.zeros(len(theta))\n",
    "    for j in range(len(grad)):\n",
    "        for i in ragne(len(x)):\n",
    "            grad[j] = grad[j] + 1/len(x)*(x[i,:]@theta-y[i]*x[i,j])\n",
    "            return theta - alpha * grad"
   ]
  },
  {
   "cell_type": "code",
   "execution_count": 4,
   "id": "1196744c",
   "metadata": {},
   "outputs": [],
   "source": [
    "def gd(x,y,theta,alpha,num):\n",
    "    Js = []\n",
    "    for i in range(num):\n",
    "        theta = gradient_descent(x,y,theta,alpha)\n",
    "        Js.append(cost_function(x,y,theta))\n",
    "    return np.array(theta),Js"
   ]
  },
  {
   "cell_type": "code",
   "execution_count": null,
   "id": "2d450e78",
   "metadata": {},
   "outputs": [],
   "source": []
  }
 ],
 "metadata": {
  "kernelspec": {
   "display_name": "Python [conda env:root] *",
   "language": "python",
   "name": "conda-root-py"
  },
  "language_info": {
   "codemirror_mode": {
    "name": "ipython",
    "version": 3
   },
   "file_extension": ".py",
   "mimetype": "text/x-python",
   "name": "python",
   "nbconvert_exporter": "python",
   "pygments_lexer": "ipython3",
   "version": "3.9.12"
  }
 },
 "nbformat": 4,
 "nbformat_minor": 5
}
