{
 "cells": [
  {
   "cell_type": "code",
   "execution_count": 5,
   "id": "221233c1",
   "metadata": {},
   "outputs": [],
   "source": [
    "import numpy as np\n",
    "from numpy import linalg as LA\n",
    "import time, random\n",
    "import matplotlib.pyplot as plt"
   ]
  },
  {
   "cell_type": "markdown",
   "id": "85fe8726",
   "metadata": {},
   "source": [
    "# <center>Cost Function and Gradient as Matrix Multiplication</center>\n",
    "\n",
    "We defined our function as $J(\\theta)=\\frac{1}{2m}\\sum_{i=1}^{m}[(\\tilde{X}\\theta-Y)_{i}]^2$. Rewritten explicitly with sums and products we obtain\n",
    "\n",
    "$$J(\\theta)=\\frac{1}{2m}\\sum_{i=1}^{m}\\biggl[\\biggl[\\sum_{j=1}^{n}x_{ij}\\theta_j\\biggl]-y_i\\biggl]^2$$\n",
    "\n",
    "As such, we can calculate the $k^{th}$ derivative of $J$ to be:\n",
    "\n",
    "$$\\frac{\\partial J}{\\partial\\theta_k} = \\frac{1}{m}\\sum_{i=1}^{m} x_{ik}\\biggl[\\biggl[\\sum_{j=1}^{n}x_{ij}\\theta_j\\biggl]-y_i\\biggl]$$\n",
    "\n",
    "$$ =\\frac{1}{m}\\sum_{i=1}^{m} x_{ik}[\\tilde{X}\\theta-Y]_i $$\n",
    "\n",
    "$$ = \\frac{1}{m}(x_{*,k})^t[\\tilde{X}\\theta-Y]$$\n",
    "\n",
    "But ths partial derivative is the $k^{th}$ entry of the gradient vector. It follows that\n",
    "\n",
    "$$\\nabla J = \\frac{1}{m}(\\tilde{X})^t[\\tilde{X}\\theta-Y]$$"
   ]
  },
  {
   "cell_type": "code",
   "execution_count": 6,
   "id": "aceff750",
   "metadata": {},
   "outputs": [],
   "source": [
    "def calculateCost(X,Y, theta):\n",
    "    return (1/2)*LA.norm(Y-X@theta)**2/len(X)\n",
    "\n",
    "def getNewTheta(X,Y, theta, alpha = 1):\n",
    "    c = X@theta-Y\n",
    "    return theta-alpha*X.T@c/len(X)"
   ]
  },
  {
   "cell_type": "code",
   "execution_count": 7,
   "id": "fe5929f7",
   "metadata": {},
   "outputs": [],
   "source": [
    "def runLinearRegression(X,Y, theta, steps, alpha = 1, log = False):\n",
    "    \n",
    "    ans = theta        \n",
    "    stepCount = [0]\n",
    "    cost = [calculateCost(X, Y, ans)]\n",
    "\n",
    "    for i in range(steps):\n",
    "        ans = getNewTheta(X, Y, ans, alpha)\n",
    "        cost.append(calculateCost(X, Y, ans))\n",
    "        stepCount.append(i+1)\n",
    "        \n",
    "    plt.scatter(stepCount, cost)\n",
    "    plt.title('Cost vs Steps')\n",
    "    plt.xlabel('Steps')\n",
    "    plt.ylabel('Cost')\n",
    "    \n",
    "    if log:\n",
    "        plt.xscale('log')\n",
    "        plt.yscale('log')\n",
    "    \n",
    "    plt.show()\n",
    "        \n",
    "    return ans"
   ]
  },
  {
   "cell_type": "code",
   "execution_count": 13,
   "id": "d04e4e4c",
   "metadata": {},
   "outputs": [
    {
     "data": {
      "image/png": "[encoded data removed]",
      "text/plain": [
       "<Figure size 432x288 with 1 Axes>"
      ]
     },
     "metadata": {
      "needs_background": "light"
     },
     "output_type": "display_data"
    },
    {
     "data": {
      "text/plain": [
       "array([1.01554819, 2.99416613])"
      ]
     },
     "execution_count": 13,
     "metadata": {},
     "output_type": "execute_result"
    }
   ],
   "source": [
    "X = np.array([[1,1],[1,2],[1,3],[1,4]])\n",
    "Y = np.array([4,7,10,13])\n",
    "theta = np.array([0,0])\n",
    "\n",
    "runLinearRegression(X, Y, theta, 100, 0.01, False)"
   ]
  },
  {
   "cell_type": "code",
   "execution_count": null,
   "id": "0fe0d128",
   "metadata": {},
   "outputs": [],
   "source": []
  }
 ],
 "metadata": {
  "kernelspec": {
   "display_name": "Python 3 (ipykernel)",
   "language": "python",
   "name": "python3"
  },
  "language_info": {
   "codemirror_mode": {
    "name": "ipython",
    "version": 3
   },
   "file_extension": ".py",
   "mimetype": "text/x-python",
   "name": "python",
   "nbconvert_exporter": "python",
   "pygments_lexer": "ipython3",
   "version": "3.8.2"
  }
 },
 "nbformat": 4,
 "nbformat_minor": 5
}
