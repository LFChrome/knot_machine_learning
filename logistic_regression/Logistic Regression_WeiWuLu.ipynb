{
 "cells": [
  {
   "cell_type": "code",
   "execution_count": 1,
   "id": "ac03926b",
   "metadata": {},
   "outputs": [],
   "source": [
    "import numpy as np\n",
    "from numpy import linalg as LA\n",
    "import time, random\n",
    "import matplotlib.pyplot as plt"
   ]
  },
  {
   "cell_type": "markdown",
   "id": "9f5e5add",
   "metadata": {},
   "source": [
    "# <center>Cost Function and Gradient as Matrix Multiplication</center>\n",
    "\n",
    "We defined our function as $J(\\theta)=\\frac{1}{m}\\sum_{i=1}^{m}-y_i\\log{(g(x_{i,*}\\theta))}-(1-y_i)\\log{(1-g(x_{i,*}\\theta))}$, where $g(z)=\\frac{1}{1+e^{-z}}$. Rewriting the inside summation\n",
    "\n",
    "$$\n",
    "-y_i\\log{(g(x_{i,*}\\theta))}-(1-y_i)\\log{(1-g(x_{i,*}\\theta))}=\n",
    "y_i\\log{(1+e^{-x_{i,*}\\theta})}-(1-y_i)\\log{(e^{-x_{i,*}\\theta})}+(1-y_i)\\log{(1+e^{-x_{i,*}\\theta})}\n",
    "$$\n",
    "\n",
    "$$\n",
    "=(1-y_i)(x_{i,*}\\theta)+\\log{(1+e^{-x_{i,*}\\theta})}\n",
    "$$\n",
    "\n",
    "$$\n",
    "=\\log{(1+e^{-x_{i,*}\\theta})}+(x_{i,*}\\theta)-(y_i)(x_{i,*}\\theta)\n",
    "$$\n",
    "\n",
    "$$\n",
    "=\\log{(1+e^{-x_{i,*}\\theta})}-\\ln{(e^{-x_{i,*}\\theta})}-(y_i)(x_{i,*}\\theta)\n",
    "$$\n",
    "\n",
    "$$\n",
    "=\\log{(1+e^{x_{i,*}\\theta})}-(y_i)(x_{i,*}\\theta)\n",
    "$$\n",
    "\n",
    "Hence, a more compact way of expressing the cost function is: \n",
    "\n",
    "$$J(\\theta)=\\frac{1}{m}\\sum_{i=1}^{m} \\log{(1+e^{x_{i,*}\\theta})}-(y_i)(x_{i,*}\\theta)$$\n",
    "\n",
    "$$J(\\theta)=-\\frac{1}{m}(\\tilde{X}\\theta)^tY+\\frac{1}{m}\\sum_{i=1}^{m}\\log(1+e^{x_{i,*}\\theta})$$\n",
    "\n",
    "\n",
    "We can now easily compute partial derivatives\n",
    "\n",
    "$$\\frac{\\partial J}{\\partial\\theta_k} = \\frac{1}{m}\\sum_{i=1}^{m} \\frac{x_{ik}e^{x_{i,*}\\theta}}{1+e^{x_{i,*}\\theta}} - x_{ik}y_i$$\n",
    "\n",
    "$$ = \\frac{1}{m}\\sum_{i=1}^{m} x_{ik} \\biggl(\\frac{1}{1+e^{-x_{i,*}\\theta}} - y_i\\biggl)$$\n",
    "\n",
    "$$ = \\frac{1}{m}\\sum_{i=1}^{m} x_{ik} (g(x_{i,*}\\theta) - y_i)$$\n",
    "\n",
    "$$ = \\frac{1}{m}(x_{*,k})^t[g(\\tilde{X}\\theta)-Y]$$\n",
    "\n",
    "It follows that\n",
    "\n",
    "$$\\nabla J = \\frac{1}{m}(\\tilde{X})^t[g(\\tilde{X}\\theta)-Y]$$"
   ]
  },
  {
   "cell_type": "code",
   "execution_count": 6,
   "id": "e1497f83",
   "metadata": {},
   "outputs": [],
   "source": [
    "def calculateCost(X, Y, theta):\n",
    "    return 1/len(X)*(np.log(1+np.exp(X@theta)).sum()-X@theta@Y)"
   ]
  },
  {
   "cell_type": "code",
   "execution_count": 7,
   "id": "12fc12d8",
   "metadata": {},
   "outputs": [],
   "source": [
    "def sigmoid(z):\n",
    "    return 1/(1+np.exp(-z))\n",
    "\n",
    "def getNewTheta(X,Y, theta, alpha = 1):\n",
    "    c = sigmoid(X@theta)-Y\n",
    "    return theta-alpha*X.T@c/len(X)"
   ]
  },
  {
   "cell_type": "code",
   "execution_count": 8,
   "id": "518ac036",
   "metadata": {},
   "outputs": [],
   "source": [
    "def runLinearRegression(X,Y, theta, steps, alpha = 1, log = False):\n",
    "    \n",
    "    ans = theta        \n",
    "    stepCount = [0]\n",
    "    cost = [calculateCost(X, Y, ans)]\n",
    "\n",
    "    for i in range(steps):\n",
    "        ans = getNewTheta(X, Y, ans, alpha)\n",
    "        cost.append(calculateCost(X, Y, ans))\n",
    "        stepCount.append(i+1)\n",
    "        \n",
    "    plt.scatter(stepCount, cost)\n",
    "    plt.title('Cost vs Steps')\n",
    "    plt.xlabel('Steps')\n",
    "    plt.ylabel('Cost')\n",
    "    \n",
    "    if log:\n",
    "        plt.xscale('log')\n",
    "        plt.yscale('log')\n",
    "    \n",
    "    plt.show()\n",
    "        \n",
    "    return ans"
   ]
  },
  {
   "cell_type": "code",
   "execution_count": null,
   "id": "27b21302",
   "metadata": {},
   "outputs": [],
   "source": [
    "# have not yet tested if this code actually works since I have not found some sample data fit for logistic regression"
   ]
  }
 ],
 "metadata": {
  "kernelspec": {
   "display_name": "Python 3 (ipykernel)",
   "language": "python",
   "name": "python3"
  },
  "language_info": {
   "codemirror_mode": {
    "name": "ipython",
    "version": 3
   },
   "file_extension": ".py",
   "mimetype": "text/x-python",
   "name": "python",
   "nbconvert_exporter": "python",
   "pygments_lexer": "ipython3",
   "version": "3.8.2"
  }
 },
 "nbformat": 4,
 "nbformat_minor": 5
}
