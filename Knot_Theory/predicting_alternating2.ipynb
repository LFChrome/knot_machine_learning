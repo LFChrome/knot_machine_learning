{
 "cells": [
  {
   "cell_type": "code",
   "execution_count": 1,
   "id": "f8bdefa9",
   "metadata": {},
   "outputs": [],
   "source": [
    "import numpy as np\n",
    "from numpy import linalg as LA\n",
    "import time, random\n",
    "import matplotlib.pyplot as plt\n",
    "import math\n",
    "import pandas as pd\n",
    "from sklearn.linear_model import LogisticRegression\n",
    "from sklearn.model_selection import cross_val_score,train_test_split"
   ]
  },
  {
   "cell_type": "code",
   "execution_count": 2,
   "id": "ba70c5fe",
   "metadata": {},
   "outputs": [],
   "source": [
    "knot_info = '/Users/guoyihan/Downloads/knotinfo_data_complete.xls'"
   ]
  },
  {
   "cell_type": "code",
   "execution_count": 3,
   "id": "4341c665",
   "metadata": {},
   "outputs": [],
   "source": [
    "Knots = pd.read_excel(knot_info, \n",
    "skiprows = [1],\n",
    "header=0,\n",
    "index_col=False,\n",
    "keep_default_na=True)"
   ]
  },
  {
   "cell_type": "code",
   "execution_count": null,
   "id": "9401219c",
   "metadata": {},
   "outputs": [],
   "source": [
    "Knots"
   ]
  },
  {
   "cell_type": "code",
   "execution_count": null,
   "id": "6aac7460",
   "metadata": {},
   "outputs": [],
   "source": [
    "Y = Knots['alternating']"
   ]
  },
  {
   "cell_type": "code",
   "execution_count": null,
   "id": "6cc04a2e",
   "metadata": {},
   "outputs": [],
   "source": [
    "X = Knots[['determinant',\n",
    "           'three_genus',\n",
    "           'bridge_index',\n",
    "           'braid_index',\n",
    "           'crossing_number',\n",
    "           'dt_rank',\n",
    "           'topological_four_genus']]"
   ]
  },
  {
   "cell_type": "code",
   "execution_count": null,
   "id": "a35f59a9",
   "metadata": {},
   "outputs": [],
   "source": [
    "X"
   ]
  },
  {
   "cell_type": "code",
   "execution_count": null,
   "id": "61eeeaa0",
   "metadata": {},
   "outputs": [],
   "source": [
    "#X.fillna(100)\n",
    "#Knots['arf_invariant'].fillna(100)"
   ]
  },
  {
   "cell_type": "code",
   "execution_count": null,
   "id": "a37410bc",
   "metadata": {},
   "outputs": [],
   "source": [
    "def convert_list_to_int(unknotting):\n",
    "    try:\n",
    "        return int(unknotting)\n",
    "    except:\n",
    "        return -1\n",
    "    \n",
    "convert_list_to_int_vect = np.vectorize(convert_list_to_int)"
   ]
  },
  {
   "cell_type": "code",
   "execution_count": null,
   "id": "925f4476",
   "metadata": {},
   "outputs": [],
   "source": [
    "Knots['topological_four_genus'] = convert_list_to_int_vect(Knots['topological_four_genus'])\n",
    "#mask2 = Knots['arf_invariant'] < 100\n",
    "mask2 = Knots['topological_four_genus'] >= 0\n",
    "X = X[mask2]"
   ]
  },
  {
   "cell_type": "code",
   "execution_count": null,
   "id": "640b9b66",
   "metadata": {},
   "outputs": [],
   "source": [
    "def YN_to_int(let):\n",
    "    if let == 'Y':\n",
    "        return 1\n",
    "    elif let == 'N':\n",
    "        return 0\n",
    "    else:\n",
    "        print(let)\n",
    "        \n",
    "YN_to_int_vect = np.vectorize(YN_to_int)"
   ]
  },
  {
   "cell_type": "code",
   "execution_count": null,
   "id": "2e867030",
   "metadata": {},
   "outputs": [],
   "source": [
    "yp = YN_to_int_vect(Y)\n",
    "\n",
    "yp = yp[mask2]"
   ]
  },
  {
   "cell_type": "code",
   "execution_count": null,
   "id": "2e318ce3",
   "metadata": {},
   "outputs": [],
   "source": [
    "x_train, x_test, y_train, y_test = train_test_split(X, yp, random_state=0)"
   ]
  },
  {
   "cell_type": "code",
   "execution_count": null,
   "id": "f701e8bc",
   "metadata": {},
   "outputs": [],
   "source": [
    "logisticRegr = LogisticRegression(max_iter = 10000)"
   ]
  },
  {
   "cell_type": "code",
   "execution_count": null,
   "id": "2cab57c7",
   "metadata": {},
   "outputs": [],
   "source": [
    "clf = logisticRegr.fit(x_train,y_train)"
   ]
  },
  {
   "cell_type": "code",
   "execution_count": null,
   "id": "30f55441",
   "metadata": {},
   "outputs": [],
   "source": [
    "clf.score(x_train,y_train)"
   ]
  },
  {
   "cell_type": "code",
   "execution_count": null,
   "id": "948fde4f",
   "metadata": {},
   "outputs": [],
   "source": [
    "def cross_value(cross):\n",
    "    A = []\n",
    "    B = []\n",
    "    for i in range(2,cross):\n",
    "        a = cross_val_score(clf, x_train, y_train, cv= i)\n",
    "        b = cross_val_score(clf, x_train, y_train, cv=i).mean()\n",
    "        A.append(a)\n",
    "        B.append(b)\n",
    "    for i in range(len(B)):\n",
    "        if B[i] == max(B):\n",
    "            return max(B),A[i]"
   ]
  },
  {
   "cell_type": "code",
   "execution_count": null,
   "id": "b54310eb",
   "metadata": {},
   "outputs": [],
   "source": [
    "cross_value(10)"
   ]
  },
  {
   "cell_type": "code",
   "execution_count": null,
   "id": "9bcffeb3",
   "metadata": {},
   "outputs": [],
   "source": [
    "logisticRegr.predict(x_test)"
   ]
  },
  {
   "cell_type": "code",
   "execution_count": null,
   "id": "33d83fe2",
   "metadata": {},
   "outputs": [],
   "source": [
    "# In X, first five variable not change, replace the 6th variable with following variables.\n",
    "#'topological_four_genus'(0.962),'smooth_concordance_genus'(0.95), 'crosscap_number'(to many array to drop),\n",
    "#'rasmussen_invariant',(0.958)\n",
    "#'ozsvath_szabo_tau_invariant',(0.95)'arf_invariant',(0.959) 'unknotting_number',(0.967)"
   ]
  },
  {
   "cell_type": "code",
   "execution_count": null,
   "id": "fc6183ab",
   "metadata": {},
   "outputs": [],
   "source": [
    "# main combination"
   ]
  },
  {
   "cell_type": "code",
   "execution_count": 28,
   "id": "c39cadd3",
   "metadata": {},
   "outputs": [],
   "source": [
    "X1 = Knots[['determinant',\n",
    "           'bridge_index',\n",
    "           'dt_rank']]"
   ]
  },
  {
   "cell_type": "code",
   "execution_count": 29,
   "id": "c51990f2",
   "metadata": {},
   "outputs": [],
   "source": [
    "Y1 = Knots['alternating']"
   ]
  },
  {
   "cell_type": "code",
   "execution_count": 30,
   "id": "899a13b9",
   "metadata": {},
   "outputs": [],
   "source": [
    "def YN_to_int(let):\n",
    "    if let == 'Y':\n",
    "        return 1\n",
    "    elif let == 'N':\n",
    "        return 0\n",
    "    else:\n",
    "        print(let)\n",
    "        \n",
    "YN_to_int_vect = np.vectorize(YN_to_int)"
   ]
  },
  {
   "cell_type": "code",
   "execution_count": 31,
   "id": "fe76bee5",
   "metadata": {},
   "outputs": [],
   "source": [
    "y = YN_to_int_vect(Y1)"
   ]
  },
  {
   "cell_type": "code",
   "execution_count": 32,
   "id": "da92565d",
   "metadata": {},
   "outputs": [],
   "source": [
    "x_train, x_test, y_train, y_test = train_test_split(X1, y, random_state=0)"
   ]
  },
  {
   "cell_type": "code",
   "execution_count": 33,
   "id": "c8fd89be",
   "metadata": {},
   "outputs": [],
   "source": [
    "logisticRegr = LogisticRegression(max_iter = 10000)"
   ]
  },
  {
   "cell_type": "code",
   "execution_count": 34,
   "id": "296e0c2a",
   "metadata": {},
   "outputs": [],
   "source": [
    "clf = logisticRegr.fit(x_train,y_train)"
   ]
  },
  {
   "cell_type": "code",
   "execution_count": 35,
   "id": "f00d1c5a",
   "metadata": {},
   "outputs": [
    {
     "data": {
      "text/plain": [
       "0.9574563367666816"
      ]
     },
     "execution_count": 35,
     "metadata": {},
     "output_type": "execute_result"
    }
   ],
   "source": [
    "clf.score(x_train,y_train)"
   ]
  },
  {
   "cell_type": "code",
   "execution_count": 36,
   "id": "7921e9bc",
   "metadata": {},
   "outputs": [],
   "source": [
    "def cross_value(cross):\n",
    "    A = []\n",
    "    B = []\n",
    "    for i in range(2,cross):\n",
    "        a = cross_val_score(clf, x_train, y_train, cv= i)\n",
    "        b = cross_val_score(clf, x_train, y_train, cv=i).mean()\n",
    "        A.append(a)\n",
    "        B.append(b)\n",
    "    for i in range(len(B)):\n",
    "        if B[i] == max(B):\n",
    "            return max(B),A[i]"
   ]
  },
  {
   "cell_type": "code",
   "execution_count": 27,
   "id": "4e171796",
   "metadata": {},
   "outputs": [
    {
     "data": {
      "text/plain": [
       "(0.9579027447018355, array([0.96107383, 0.95430108, 0.95833333]))"
      ]
     },
     "execution_count": 27,
     "metadata": {},
     "output_type": "execute_result"
    }
   ],
   "source": [
    "cross_value(10)"
   ]
  },
  {
   "cell_type": "code",
   "execution_count": null,
   "id": "2869c07d",
   "metadata": {},
   "outputs": [],
   "source": []
  }
 ],
 "metadata": {
  "kernelspec": {
   "display_name": "Python [conda env:root] *",
   "language": "python",
   "name": "conda-root-py"
  },
  "language_info": {
   "codemirror_mode": {
    "name": "ipython",
    "version": 3
   },
   "file_extension": ".py",
   "mimetype": "text/x-python",
   "name": "python",
   "nbconvert_exporter": "python",
   "pygments_lexer": "ipython3",
   "version": "3.9.12"
  }
 },
 "nbformat": 4,
 "nbformat_minor": 5
}
