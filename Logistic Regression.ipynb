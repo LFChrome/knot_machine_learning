{
 "cells": [
  {
   "cell_type": "code",
   "execution_count": 17,
   "id": "c991a975",
   "metadata": {},
   "outputs": [],
   "source": [
    "import numpy as np\n",
    "from numpy import linalg as LA\n",
    "import math"
   ]
  },
  {
   "cell_type": "code",
   "execution_count": 5,
   "id": "2a0fe2d3",
   "metadata": {},
   "outputs": [],
   "source": [
    "def sigmoid(z):\n",
    "    g = 1/(1+np.exp(-z))\n",
    "    return g "
   ]
  },
  {
   "cell_type": "code",
   "execution_count": 18,
   "id": "e2e08a9d",
   "metadata": {},
   "outputs": [],
   "source": [
    "def cost_function(x,y,theta):\n",
    "    J = 1/len(x)*sum(math.log(1+np.exp(x@theta))-(x@theta)@y)\n",
    "    return J"
   ]
  },
  {
   "cell_type": "code",
   "execution_count": 19,
   "id": "86f64386",
   "metadata": {},
   "outputs": [],
   "source": [
    "def gradient_descent(x,y,thetha,alpha):\n",
    "    c = sigmoid(x@theta)-y\n",
    "    return theta-alpha*x.T@c/len(x)"
   ]
  },
  {
   "cell_type": "code",
   "execution_count": 20,
   "id": "ad0f871a",
   "metadata": {},
   "outputs": [],
   "source": [
    "def logistic_regression(x,y,theta,alpha,num):\n",
    "    Js = []\n",
    "    for i in range(num):\n",
    "        theta = gradient_descent(x,y,theta,alpha)\n",
    "        Js.append(cost_function(x,y,theta))\n",
    "    return np.array(theta),Js"
   ]
  }
 ],
 "metadata": {
  "kernelspec": {
   "display_name": "Python [conda env:root] *",
   "language": "python",
   "name": "conda-root-py"
  },
  "language_info": {
   "codemirror_mode": {
    "name": "ipython",
    "version": 3
   },
   "file_extension": ".py",
   "mimetype": "text/x-python",
   "name": "python",
   "nbconvert_exporter": "python",
   "pygments_lexer": "ipython3",
   "version": "3.9.12"
  }
 },
 "nbformat": 4,
 "nbformat_minor": 5
}
